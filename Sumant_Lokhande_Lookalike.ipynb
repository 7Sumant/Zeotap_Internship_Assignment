{
  "nbformat": 4,
  "nbformat_minor": 0,
  "metadata": {
    "colab": {
      "provenance": []
    },
    "kernelspec": {
      "name": "python3",
      "display_name": "Python 3"
    },
    "language_info": {
      "name": "python"
    }
  },
  "cells": [
    {
      "cell_type": "markdown",
      "source": [
        "# **Importing libraries and Loading dataset**"
      ],
      "metadata": {
        "id": "eghRMkapeLt0"
      }
    },
    {
      "cell_type": "code",
      "source": [
        "import pandas as pd\n",
        "from sklearn.metrics.pairwise import cosine_similarity\n",
        "import numpy as np\n",
        "\n",
        "customers = pd.read_csv('Customers.csv')\n",
        "products = pd.read_csv('Products.csv')\n",
        "transactions = pd.read_csv('Transactions.csv')"
      ],
      "metadata": {
        "id": "UP2IbZfBdntD"
      },
      "execution_count": 6,
      "outputs": []
    },
    {
      "cell_type": "markdown",
      "source": [
        "# **Lookalike Customer Model for Recommendation Based on Transaction History and Product Preferences**"
      ],
      "metadata": {
        "id": "Kwp6LVdPeHsR"
      }
    },
    {
      "cell_type": "code",
      "execution_count": 7,
      "metadata": {
        "colab": {
          "base_uri": "https://localhost:8080/"
        },
        "id": "opzNmp1tby1s",
        "outputId": "84a498af-dbc4-4145-dabe-df6a0dfeea43"
      },
      "outputs": [
        {
          "output_type": "stream",
          "name": "stdout",
          "text": [
            "  CustomerID                                         Lookalikes\n",
            "0      C0001  [(C0164, 0.9684103747672835), (C0137, 0.962080...\n",
            "1      C0002  [(C0029, 0.999761634349898), (C0031, 0.9990127...\n",
            "2      C0003  [(C0176, 0.8906401232895583), (C0027, 0.863579...\n",
            "3      C0004  [(C0075, 0.997674065238924), (C0175, 0.9940844...\n",
            "4      C0005  [(C0058, 0.9997982043779897), (C0123, 0.999705...\n"
          ]
        }
      ],
      "source": [
        "merged_data = pd.merge(transactions, customers, on='CustomerID', how='left')\n",
        "merged_data = pd.merge(merged_data, products, on='ProductID', how='left')\n",
        "\n",
        "customer_profile = merged_data.groupby('CustomerID').agg({\n",
        "    'TotalValue': 'sum',\n",
        "    'Quantity': 'sum',\n",
        "    'ProductID': 'nunique',\n",
        "    'Region': 'first'\n",
        "}).reset_index()\n",
        "\n",
        "customer_profile_normalized = customer_profile.copy()\n",
        "customer_profile_normalized[['TotalValue', 'Quantity', 'ProductID']] = (\n",
        "    customer_profile[['TotalValue', 'Quantity', 'ProductID']] - customer_profile[['TotalValue', 'Quantity', 'ProductID']].mean()\n",
        ") / customer_profile[['TotalValue', 'Quantity', 'ProductID']].std()\n",
        "\n",
        "cosine_sim = cosine_similarity(customer_profile_normalized[['TotalValue', 'Quantity', 'ProductID']])\n",
        "\n",
        "cosine_sim_df = pd.DataFrame(cosine_sim, index=customer_profile['CustomerID'], columns=customer_profile['CustomerID'])\n",
        "\n",
        "lookalike_dict = {}\n",
        "\n",
        "for cust_id in customer_profile['CustomerID'][:20]:\n",
        "    similar_customers = cosine_sim_df[cust_id].sort_values(ascending=False).iloc[1:4]\n",
        "    lookalike_dict[cust_id] = [(similar_customer, similar_customers[similar_customer]) for similar_customer in similar_customers.index]\n",
        "\n",
        "lookalike_df = pd.DataFrame([\n",
        "    {'CustomerID': cust_id, 'Lookalikes': lookalikes}\n",
        "    for cust_id, lookalikes in lookalike_dict.items()\n",
        "])\n",
        "\n",
        "lookalike_df.to_csv('Sumant_Lokhande_Lookalike.csv', index=False)\n",
        "\n",
        "print(lookalike_df.head())\n"
      ]
    }
  ]
}